{
 "cells": [
  {
   "cell_type": "code",
   "execution_count": 1,
   "metadata": {
    "collapsed": true
   },
   "outputs": [],
   "source": [
    "import math\n",
    "import random\n",
    "\n",
    "import ps2_visualize\n",
    "import pylab\n",
    "import numpy as np"
   ]
  },
  {
   "cell_type": "code",
   "execution_count": 2,
   "metadata": {
    "collapsed": false
   },
   "outputs": [],
   "source": [
    "from ps2_verify_movement35 import testRobotMovement"
   ]
  },
  {
   "cell_type": "code",
   "execution_count": 3,
   "metadata": {
    "collapsed": true
   },
   "outputs": [],
   "source": [
    "class Position(object):\n",
    "    \"\"\"\n",
    "    A Position represents a location in a two-dimensional room.\n",
    "    \"\"\"\n",
    "    def __init__(self, x, y):\n",
    "        \"\"\"\n",
    "        Initializes a position with coordinates (x, y).\n",
    "        \"\"\"\n",
    "        self.x = x\n",
    "        self.y = y\n",
    "        \n",
    "    def getX(self):\n",
    "        return self.x\n",
    "    \n",
    "    def getY(self):\n",
    "        return self.y\n",
    "    \n",
    "    def getNewPosition(self, angle, speed):\n",
    "        \"\"\"\n",
    "        Computes and returns the new Position after a single clock-tick has\n",
    "        passed, with this object as the current position, and with the\n",
    "        specified angle and speed.\n",
    "\n",
    "        Does NOT test whether the returned position fits inside the room.\n",
    "\n",
    "        angle: number representing angle in degrees, 0 <= angle < 360\n",
    "        speed: positive float representing speed\n",
    "\n",
    "        Returns: a Position object representing the new position.\n",
    "        \"\"\"\n",
    "        old_x, old_y = self.getX(), self.getY()\n",
    "        angle = float(angle)\n",
    "        # Compute the change in position\n",
    "        delta_y = speed * math.cos(math.radians(angle))\n",
    "        delta_x = speed * math.sin(math.radians(angle))\n",
    "        # Add that to the existing position\n",
    "        new_x = old_x + delta_x\n",
    "        new_y = old_y + delta_y\n",
    "        return Position(new_x, new_y)\n",
    "\n",
    "    def __str__(self):  \n",
    "        return \"(%0.2f, %0.2f)\" % (self.x, self.y)\n"
   ]
  },
  {
   "cell_type": "code",
   "execution_count": 4,
   "metadata": {
    "collapsed": true
   },
   "outputs": [],
   "source": [
    "# === Problem 1\n",
    "class RectangularRoom(object):\n",
    "    \"\"\"\n",
    "    A RectangularRoom represents a rectangular region containing clean or dirty\n",
    "    tiles.\n",
    "\n",
    "    A room has a width and a height and contains (width * height) tiles. At any\n",
    "    particular time, each of these tiles is either clean or dirty.\n",
    "    \"\"\"\n",
    "    def __init__(self, width, height):\n",
    "        \"\"\"\n",
    "        Initializes a rectangular room with the specified width and height.\n",
    "\n",
    "        Initially, no tiles in the room have been cleaned.\n",
    "\n",
    "        width: an integer > 0\n",
    "        height: an integer > 0\n",
    "        \"\"\"\n",
    "        self.width=width\n",
    "        self.height=height\n",
    "        self.tiles=np.zeros((width,height))\n",
    "    \n",
    "    def getTiles(self):\n",
    "        return self.tiles\n",
    "    \n",
    "    def getWidth(self):\n",
    "        return self.width\n",
    "    \n",
    "    def getHeight(self):\n",
    "        return self.height\n",
    "     \n",
    "    def cleanTileAtPosition(self, pos):\n",
    "        \"\"\"\n",
    "        Mark the tile under the position POS as cleaned.\n",
    "\n",
    "        Assumes that POS represents a valid position inside this room.\n",
    "\n",
    "        pos: a Position\n",
    "        \"\"\"\n",
    "        row=math.floor(pos.getX())\n",
    "        col=math.floor(pos.getY())\n",
    "        \n",
    "        '''\n",
    "        if row==pos.getX():\n",
    "            row-=1\n",
    "        if col==pos.getX():\n",
    "            col-=1\n",
    "        '''\n",
    "        \n",
    "        if row>=self.getWidth() or col>=self.getHeight():\n",
    "            raise ValueError('Invalid position')\n",
    "            \n",
    "        tiles=self.getTiles()\n",
    "        tiles[row,col]=1\n",
    "        self.tiles=tiles\n",
    "\n",
    "    def isTileCleaned(self, m, n):\n",
    "        \"\"\"\n",
    "        Return True if the tile (m, n) has been cleaned.\n",
    "\n",
    "        Assumes that (m, n) represents a valid tile inside the room.\n",
    "\n",
    "        m: an integer\n",
    "        n: an integer\n",
    "        returns: True if (m, n) is cleaned, False otherwise\n",
    "        \"\"\"\n",
    "        tiles=self.getTiles()\n",
    "        return tiles[m,n]==1\n",
    "    \n",
    "    def getNumTiles(self):\n",
    "        \"\"\"\n",
    "        Return the total number of tiles in the room.\n",
    "\n",
    "        returns: an integer\n",
    "        \"\"\"\n",
    "        tiles=self.getTiles()\n",
    "        return tiles.shape[0]*tiles.shape[1]\n",
    "\n",
    "    def getNumCleanedTiles(self):\n",
    "        \"\"\"\n",
    "        Return the total number of clean tiles in the room.\n",
    "\n",
    "        returns: an integer\n",
    "        \"\"\"\n",
    "        tiles=self.getTiles()\n",
    "        \n",
    "        return int(sum(sum(tiles)))\n",
    "\n",
    "    def getRandomPosition(self):\n",
    "        \"\"\"\n",
    "        Return a random position inside the room.\n",
    "\n",
    "        returns: a Position object.\n",
    "        \"\"\"\n",
    "        posX=random.random()*self.getWidth()\n",
    "        posY=random.random()*self.getHeight()\n",
    "        return Position(posX, posY)\n",
    "\n",
    "    def isPositionInRoom(self, pos):\n",
    "        \"\"\"\n",
    "        Return True if pos is inside the room.\n",
    "\n",
    "        pos: a Position object.\n",
    "        returns: True if pos is in the room, False otherwise.\n",
    "        \"\"\"\n",
    "        if pos.getX()<0 or pos.getY()<0:\n",
    "            return False\n",
    "        if pos.getX()>=self.getWidth() or pos.getY()>=self.getHeight():\n",
    "            return False\n",
    "        return True\n"
   ]
  },
  {
   "cell_type": "code",
   "execution_count": 5,
   "metadata": {
    "collapsed": true
   },
   "outputs": [],
   "source": [
    "# === Problem 2\n",
    "class Robot(object):\n",
    "    \"\"\"\n",
    "    Represents a robot cleaning a particular room.\n",
    "\n",
    "    At all times the robot has a particular position and direction in the room.\n",
    "    The robot also has a fixed speed.\n",
    "\n",
    "    Subclasses of Robot should provide movement strategies by implementing\n",
    "    updatePositionAndClean(), which simulates a single time-step.\n",
    "    \"\"\"\n",
    "    def __init__(self, room, speed):\n",
    "        \"\"\"\n",
    "        Initializes a Robot with the given speed in the specified room. The\n",
    "        robot initially has a random direction and a random position in the\n",
    "        room. The robot cleans the tile it is on.\n",
    "\n",
    "        room:  a RectangularRoom object.\n",
    "        speed: a float (speed > 0)\n",
    "        \"\"\"\n",
    "        self.speed=speed\n",
    "        self.angle=random.random()*360\n",
    "        self.pos=room.getRandomPosition()\n",
    "        room.cleanTileAtPosition(self.pos)\n",
    "        self.room=room\n",
    "    \n",
    "    def getAngle(self):\n",
    "        return self.angle\n",
    "    \n",
    "    def getSpeed(self):\n",
    "        return self.speed\n",
    "    \n",
    "    def getRoom(self):\n",
    "        return self.room\n",
    "\n",
    "    def getRobotPosition(self):\n",
    "        \"\"\"\n",
    "        Return the position of the robot.\n",
    "\n",
    "        returns: a Position object giving the robot's position.\n",
    "        \"\"\"\n",
    "        return self.pos\n",
    "    \n",
    "    def getRobotDirection(self):\n",
    "        \"\"\"\n",
    "        Return the direction of the robot.\n",
    "\n",
    "        returns: an integer d giving the direction of the robot as an angle in\n",
    "        degrees, 0 <= d < 360.\n",
    "        \"\"\"\n",
    "        return self.angle\n",
    "\n",
    "    def setRobotPosition(self, position):\n",
    "        \"\"\"\n",
    "        Set the position of the robot to POSITION.\n",
    "\n",
    "        position: a Position object.\n",
    "        \"\"\"\n",
    "        self.pos=position\n",
    "\n",
    "    def setRobotDirection(self, direction):\n",
    "        \"\"\"\n",
    "        Set the direction of the robot to DIRECTION.\n",
    "\n",
    "        direction: integer representing an angle in degrees\n",
    "        \"\"\"\n",
    "        self.angle=direction\n",
    "\n",
    "    def updatePositionAndClean(self):\n",
    "        \"\"\"\n",
    "        Simulate the raise passage of a single time-step.\n",
    "\n",
    "        Move the robot to a new position and mark the tile it is on as having\n",
    "        been cleaned.\n",
    "        \"\"\"\n",
    "        '''\n",
    "        old_pos=self.getRobotPosition()\n",
    "        angle=self.getAngle()\n",
    "        speed=self.getSpeed()\n",
    "        new_pos=old_pos.getNewPosition(angle,speed)\n",
    "        room=self.getRoom()\n",
    "        if room.isPositionInRoom(new_pos):\n",
    "            self.setRobotPosition(new_pos)\n",
    "            room.cleanTileAtPosition(new_pos)\n",
    "        '''\n",
    "        \n",
    "        raise NotImplementedError # don't change this!"
   ]
  },
  {
   "cell_type": "code",
   "execution_count": 16,
   "metadata": {
    "collapsed": true
   },
   "outputs": [],
   "source": [
    "class StandardRobot(Robot):\n",
    "    \"\"\"\n",
    "    A StandardRobot is a Robot with the standard movement strategy.\n",
    "\n",
    "    At each time-step, a StandardRobot attempts to move in its current\n",
    "    direction; when it would hit a wall, it *instead* chooses a new direction\n",
    "    randomly.\n",
    "    \"\"\"\n",
    "    def genNewAngle(self):\n",
    "        return random.random()*360\n",
    "\n",
    "    def updatePositionAndClean(self):\n",
    "        \"\"\"\n",
    "        Simulate the raise passage of a single time-step.\n",
    "\n",
    "        Move the robot to a new position and mark the tile it is on as having\n",
    "        been cleaned.\n",
    "        \"\"\"\n",
    "        old_pos=self.getRobotPosition()\n",
    "        angle=self.getAngle()\n",
    "        speed=self.getSpeed()\n",
    "        new_pos=old_pos.getNewPosition(angle,speed)\n",
    "        room=self.getRoom()\n",
    "        while not room.isPositionInRoom(new_pos):\n",
    "            angle=self.genNewAngle()\n",
    "            new_pos=old_pos.getNewPosition(angle,speed)\n",
    "            \n",
    "        self.setRobotPosition(new_pos)\n",
    "        room.cleanTileAtPosition(new_pos)\n",
    "        self.setRobotDirection(angle)\n",
    "\n",
    "            \n",
    "\n",
    "\n",
    "# Uncomment this line to see your implementation of StandardRobot in action!\n",
    "testRobotMovement(StandardRobot, RectangularRoom)"
   ]
  },
  {
   "cell_type": "code",
   "execution_count": 27,
   "metadata": {
    "collapsed": false
   },
   "outputs": [
    {
     "name": "stdout",
     "output_type": "stream",
     "text": [
      "145.466666667\n"
     ]
    }
   ],
   "source": [
    "# === Problem 4\n",
    "def runSimulation(num_robots, speed, width, height, min_coverage, num_trials,\n",
    "                  robot_type):\n",
    "    \"\"\"\n",
    "    Runs NUM_TRIALS trials of the simulation and returns the mean number of\n",
    "    time-steps needed to clean the fraction MIN_COVERAGE of the room.\n",
    "\n",
    "    The simulation is run with NUM_ROBOTS robots of type ROBOT_TYPE, each with\n",
    "    speed SPEED, in a room of dimensions WIDTH x HEIGHT.\n",
    "\n",
    "    num_robots: an int (num_robots > 0)\n",
    "    speed: a float (speed > 0)\n",
    "    width: an int (width > 0)\n",
    "    height: an int (height > 0)\n",
    "    min_coverage: a float (0 <= min_coverage <= 1.0)\n",
    "    num_trials: an int (num_trials > 0)\n",
    "    robot_type: class of robot to be instantiated (e.g. StandardRobot or\n",
    "                RandomWalkRobot)\n",
    "    \"\"\"\n",
    "    time_result=[]\n",
    "    for i in range(num_trials):\n",
    "        time_step=0\n",
    "        room=RectangularRoom(width,height)\n",
    "        \n",
    "        robot_team=[]\n",
    "        for j in range(num_robots):\n",
    "            robot=robot_type(room,speed)\n",
    "            robot_team.append(robot)\n",
    "        \n",
    "        coverage=room.getNumCleanedTiles()/room.getNumTiles()\n",
    "        while coverage<min_coverage:\n",
    "            for robot in robot_team:\n",
    "                robot.updatePositionAndClean()\n",
    "            coverage=room.getNumCleanedTiles()/room.getNumTiles()\n",
    "            time_step+=1\n",
    "        time_result.append(time_step)\n",
    "    return np.mean(time_result)\n",
    "        \n",
    "                \n",
    "\n",
    "# Uncomment this line to see how much your simulation takes on average\n",
    "print(runSimulation(1, 1.0, 10, 10, 0.75, 30, StandardRobot))\n"
   ]
  },
  {
   "cell_type": "code",
   "execution_count": 28,
   "metadata": {
    "collapsed": true
   },
   "outputs": [],
   "source": [
    "# === Problem 5\n",
    "class RandomWalkRobot(Robot):\n",
    "    \"\"\"\n",
    "    A RandomWalkRobot is a robot with the \"random walk\" movement strategy: it\n",
    "    chooses a new direction at random at the end of each time-step.\n",
    "    \"\"\"\n",
    "    def genNewAngle(self):\n",
    "        return random.random()*360\n",
    "\n",
    "    def updatePositionAndClean(self):\n",
    "        old_pos=self.getRobotPosition()\n",
    "        speed=self.getSpeed()\n",
    "        angle=self.genNewAngle()\n",
    "        new_pos=old_pos.getNewPosition(angle,speed)\n",
    "        room=self.getRoom()\n",
    "        while not room.isPositionInRoom(new_pos):\n",
    "            angle=self.genNewAngle()\n",
    "            new_pos=old_pos.getNewPosition(angle,speed)\n",
    "            \n",
    "        self.setRobotPosition(new_pos)\n",
    "        room.cleanTileAtPosition(new_pos)\n",
    "        self.setRobotDirection(angle)\n"
   ]
  },
  {
   "cell_type": "code",
   "execution_count": 29,
   "metadata": {
    "collapsed": false
   },
   "outputs": [
    {
     "name": "stdout",
     "output_type": "stream",
     "text": [
      "ERROR! Session/line number was not unique in database. History logging moved to new session 137\n"
     ]
    }
   ],
   "source": [
    "def showPlot1(title, x_label, y_label):\n",
    "    \"\"\"\n",
    "    What information does the plot produced by this function tell you?\n",
    "    \"\"\"\n",
    "    num_robot_range = range(1, 11)\n",
    "    times1 = []\n",
    "    times2 = []\n",
    "    for num_robots in num_robot_range:\n",
    "        print(\"Plotting\", num_robots, \"robots...\")\n",
    "        times1.append(runSimulation(num_robots, 1.0, 20, 20, 0.8, 20, StandardRobot))\n",
    "        times2.append(runSimulation(num_robots, 1.0, 20, 20, 0.8, 20, RandomWalkRobot))\n",
    "    pylab.plot(num_robot_range, times1)\n",
    "    pylab.plot(num_robot_range, times2)\n",
    "    pylab.title(title)\n",
    "    pylab.legend(('StandardRobot', 'RandomWalkRobot'))\n",
    "    pylab.xlabel(x_label)\n",
    "    pylab.ylabel(y_label)\n",
    "    pylab.show()\n",
    "\n",
    "    \n",
    "def showPlot2(title, x_label, y_label):\n",
    "    \"\"\"\n",
    "    What information does the plot produced by this function tell you?\n",
    "    \"\"\"\n",
    "    aspect_ratios = []\n",
    "    times1 = []\n",
    "    times2 = []\n",
    "    for width in [10, 20, 25, 50]:\n",
    "        height = 300//width\n",
    "        print(\"Plotting cleaning time for a room of width:\", width, \"by height:\", height)\n",
    "        aspect_ratios.append(float(width) / height)\n",
    "        times1.append(runSimulation(2, 1.0, width, height, 0.8, 200, StandardRobot))\n",
    "        times2.append(runSimulation(2, 1.0, width, height, 0.8, 200, RandomWalkRobot))\n",
    "    pylab.plot(aspect_ratios, times1)\n",
    "    pylab.plot(aspect_ratios, times2)\n",
    "    pylab.title(title)\n",
    "    pylab.legend(('StandardRobot', 'RandomWalkRobot'))\n",
    "    pylab.xlabel(x_label)\n",
    "    pylab.ylabel(y_label)\n",
    "    pylab.show()\n",
    "    "
   ]
  },
  {
   "cell_type": "code",
   "execution_count": 31,
   "metadata": {
    "collapsed": true
   },
   "outputs": [],
   "source": [
    "%matplotlib inline"
   ]
  },
  {
   "cell_type": "code",
   "execution_count": 32,
   "metadata": {
    "collapsed": false
   },
   "outputs": [
    {
     "name": "stdout",
     "output_type": "stream",
     "text": [
      "Plotting 1 robots...\n",
      "Plotting 2 robots...\n",
      "Plotting 3 robots...\n",
      "Plotting 4 robots...\n",
      "Plotting 5 robots...\n",
      "Plotting 6 robots...\n",
      "Plotting 7 robots...\n",
      "Plotting 8 robots...\n",
      "Plotting 9 robots...\n",
      "Plotting 10 robots...\n"
     ]
    },
    {
     "data": {
      "image/png": "[encoded data removed]",
      "text/plain": [
       "<matplotlib.figure.Figure at 0x1f66013e400>"
      ]
     },
     "metadata": {},
     "output_type": "display_data"
    }
   ],
   "source": [
    "showPlot1('Robot Comparision', '# of Robot', 'Time needed')"
   ]
  },
  {
   "cell_type": "code",
   "execution_count": 35,
   "metadata": {
    "collapsed": false
   },
   "outputs": [
    {
     "name": "stdout",
     "output_type": "stream",
     "text": [
      "Plotting cleaning time for a room of width: 10 by height: 30\n",
      "Plotting cleaning time for a room of width: 20 by height: 15\n",
      "Plotting cleaning time for a room of width: 25 by height: 12\n",
      "Plotting cleaning time for a room of width: 50 by height: 6\n"
     ]
    },
    {
     "data": {
      "image/png": "[encoded data removed]",
      "text/plain": [
       "<matplotlib.figure.Figure at 0x1f660401860>"
      ]
     },
     "metadata": {},
     "output_type": "display_data"
    }
   ],
   "source": [
    "showPlot2('Robot Comparision', 'Room Ratio', 'Time Needed')"
   ]
  },
  {
   "cell_type": "code",
   "execution_count": null,
   "metadata": {
    "collapsed": true
   },
   "outputs": [],
   "source": []
  }
 ],
 "metadata": {
  "anaconda-cloud": {},
  "kernelspec": {
   "display_name": "Python [Root]",
   "language": "python",
   "name": "Python [Root]"
  },
  "language_info": {
   "codemirror_mode": {
    "name": "ipython",
    "version": 3
   },
   "file_extension": ".py",
   "mimetype": "text/x-python",
   "name": "python",
   "nbconvert_exporter": "python",
   "pygments_lexer": "ipython3",
   "version": "3.5.2"
  }
 },
 "nbformat": 4,
 "nbformat_minor": 0
}
